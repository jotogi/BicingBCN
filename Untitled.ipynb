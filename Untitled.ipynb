{
 "cells": [
  {
   "cell_type": "code",
   "execution_count": null,
   "id": "426123f8",
   "metadata": {},
   "outputs": [],
   "source": [
    "import pandas as pd"
   ]
  },
  {
   "cell_type": "code",
   "execution_count": 20,
   "id": "7531ad4e",
   "metadata": {},
   "outputs": [],
   "source": [
    "global_df = pd.read_csv('./Data/STATIONS_CLEANED/global_df.csv')\n",
    "global_df = pd.read_csv('./Data/metadata_sample_submission.csv')"
   ]
  },
  {
   "cell_type": "code",
   "execution_count": 21,
   "id": "09f2021d",
   "metadata": {},
   "outputs": [
    {
     "name": "stdout",
     "output_type": "stream",
     "text": [
      "<class 'pandas.core.frame.DataFrame'>\n",
      "RangeIndex: 3275091 entries, 0 to 3275090\n",
      "Data columns (total 16 columns):\n",
      " #   Column                                Dtype  \n",
      "---  ------                                -----  \n",
      " 0   station_id                            int64  \n",
      " 1   year                                  int64  \n",
      " 2   month                                 int64  \n",
      " 3   day                                   int64  \n",
      " 4   hour                                  int64  \n",
      " 5   num_bikes_available                   float64\n",
      " 6   num_bikes_available_types.mechanical  float64\n",
      " 7   num_bikes_available_types.ebike       float64\n",
      " 8   num_docks_available                   float64\n",
      " 9   weekend                               float64\n",
      " 10  percentage_docks_available            float64\n",
      " 11  ctx-1                                 float64\n",
      " 12  ctx-2                                 float64\n",
      " 13  ctx-3                                 float64\n",
      " 14  ctx-4                                 float64\n",
      " 15  traffic                               float64\n",
      "dtypes: float64(11), int64(5)\n",
      "memory usage: 399.8 MB\n"
     ]
    }
   ],
   "source": [
    "global_df.info()"
   ]
  },
  {
   "cell_type": "code",
   "execution_count": 22,
   "id": "6fc53228",
   "metadata": {},
   "outputs": [],
   "source": [
    "from sklearn.model_selection import train_test_split"
   ]
  },
  {
   "cell_type": "code",
   "execution_count": 26,
   "id": "46d39202",
   "metadata": {},
   "outputs": [],
   "source": [
    "# data set de train i test\n",
    "df_train = global_df[(global_df['year'] < 2023)]\n",
    "df_test = global_df[(global_df['year'] >= 2023)]\n",
    "\n",
    "X_train = df_train[['ctx-1', 'ctx-2', 'ctx-3', 'ctx-4']]\n",
    "y_train = df_train['percentage_docks_available']\n",
    "\n",
    "X_test = df_test[['ctx-1', 'ctx-2', 'ctx-3', 'ctx-4']]\n",
    "y_test = df_test['percentage_docks_available']\n"
   ]
  },
  {
   "cell_type": "code",
   "execution_count": 28,
   "id": "0193d402",
   "metadata": {},
   "outputs": [
    {
     "name": "stdout",
     "output_type": "stream",
     "text": [
      "<class 'pandas.core.frame.DataFrame'>\n",
      "RangeIndex: 3275091 entries, 0 to 3275090\n",
      "Data columns (total 16 columns):\n",
      " #   Column                                Dtype  \n",
      "---  ------                                -----  \n",
      " 0   station_id                            int64  \n",
      " 1   year                                  int64  \n",
      " 2   month                                 int64  \n",
      " 3   day                                   int64  \n",
      " 4   hour                                  int64  \n",
      " 5   num_bikes_available                   float64\n",
      " 6   num_bikes_available_types.mechanical  float64\n",
      " 7   num_bikes_available_types.ebike       float64\n",
      " 8   num_docks_available                   float64\n",
      " 9   weekend                               float64\n",
      " 10  percentage_docks_available            float64\n",
      " 11  ctx-1                                 float64\n",
      " 12  ctx-2                                 float64\n",
      " 13  ctx-3                                 float64\n",
      " 14  ctx-4                                 float64\n",
      " 15  traffic                               float64\n",
      "dtypes: float64(11), int64(5)\n",
      "memory usage: 399.8 MB\n"
     ]
    }
   ],
   "source": [
    "global_df.info()"
   ]
  }
 ],
 "metadata": {
  "kernelspec": {
   "display_name": "Python 3 (ipykernel)",
   "language": "python",
   "name": "python3"
  },
  "language_info": {
   "codemirror_mode": {
    "name": "ipython",
    "version": 3
   },
   "file_extension": ".py",
   "mimetype": "text/x-python",
   "name": "python",
   "nbconvert_exporter": "python",
   "pygments_lexer": "ipython3",
   "version": "3.9.12"
  }
 },
 "nbformat": 4,
 "nbformat_minor": 5
}
