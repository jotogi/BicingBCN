{
 "cells": [
  {
   "cell_type": "code",
   "execution_count": 9,
   "id": "d3f59c4d",
   "metadata": {},
   "outputs": [
    {
     "name": "stdout",
     "output_type": "stream",
     "text": [
      "Collecting haversine\n",
      "  Downloading haversine-2.8.0-py2.py3-none-any.whl (7.7 kB)\n",
      "Installing collected packages: haversine\n",
      "Successfully installed haversine-2.8.0\n"
     ]
    }
   ],
   "source": [
    "!pip install haversine"
   ]
  },
  {
   "cell_type": "code",
   "execution_count": 10,
   "id": "426123f8",
   "metadata": {},
   "outputs": [],
   "source": [
    "import pandas as pd\n",
    "from scipy.spatial import distance_matrix\n",
    "from haversine import haversine, Unit # per calcular distancies (m) amb coordenades"
   ]
  },
  {
   "cell_type": "code",
   "execution_count": 3,
   "id": "7531ad4e",
   "metadata": {},
   "outputs": [],
   "source": [
    "df_trans = pd.read_csv('./Data/TRANSPORTS.csv')\n",
    "global_df = pd.read_csv('./Data/global_df.csv')"
   ]
  },
  {
   "cell_type": "code",
   "execution_count": null,
   "id": "016e2e0d",
   "metadata": {},
   "outputs": [],
   "source": [
    "#global_df_test = global_df.sample(n=10000, random_state=42)\n",
    "estacions_coords = df.drop_duplicates(subset=['station_id','lat','lon'])"
   ]
  },
  {
   "cell_type": "code",
   "execution_count": 6,
   "id": "85c418fe",
   "metadata": {},
   "outputs": [
    {
     "name": "stdout",
     "output_type": "stream",
     "text": [
      "<class 'pandas.core.frame.DataFrame'>\n",
      "RangeIndex: 684 entries, 0 to 683\n",
      "Data columns (total 16 columns):\n",
      " #   Column          Non-Null Count  Dtype  \n",
      "---  ------          --------------  -----  \n",
      " 0   CODI_CAPA       684 non-null    object \n",
      " 1   CAPA_GENERICA   684 non-null    object \n",
      " 2   NOM_CAPA        684 non-null    object \n",
      " 3   ED50_COORD_X    684 non-null    float64\n",
      " 4   ED50_COORD_Y    684 non-null    float64\n",
      " 5   ETRS89_COORD_X  684 non-null    float64\n",
      " 6   ETRS89_COORD_Y  684 non-null    float64\n",
      " 7   LONGITUD        684 non-null    float64\n",
      " 8   LATITUD         684 non-null    float64\n",
      " 9   EQUIPAMENT      684 non-null    object \n",
      " 10  DISTRICTE       488 non-null    float64\n",
      " 11  BARRI           488 non-null    float64\n",
      " 12  NOM_DISTRICTE   488 non-null    object \n",
      " 13  NOM_BARRI       488 non-null    object \n",
      " 14  ADRECA          14 non-null     object \n",
      " 15  TELEFON         11 non-null     object \n",
      "dtypes: float64(8), object(8)\n",
      "memory usage: 85.6+ KB\n"
     ]
    }
   ],
   "source": [
    "df_trans.info()"
   ]
  },
  {
   "cell_type": "code",
   "execution_count": 5,
   "id": "0193d402",
   "metadata": {},
   "outputs": [
    {
     "name": "stdout",
     "output_type": "stream",
     "text": [
      "<class 'pandas.core.frame.DataFrame'>\n",
      "RangeIndex: 2969792 entries, 0 to 2969791\n",
      "Data columns (total 16 columns):\n",
      " #   Column                      Dtype  \n",
      "---  ------                      -----  \n",
      " 0   station_id                  int64  \n",
      " 1   year                        int64  \n",
      " 2   month                       int64  \n",
      " 3   day                         int64  \n",
      " 4   hour                        int64  \n",
      " 5   num_bikes_available         float64\n",
      " 6   num_docks_available         float64\n",
      " 7   lat                         float64\n",
      " 8   lon                         float64\n",
      " 9   capacity                    float64\n",
      " 10  altitude                    float64\n",
      " 11  percentage_docks_available  float64\n",
      " 12  ctx-1                       float64\n",
      " 13  ctx-2                       float64\n",
      " 14  ctx-3                       float64\n",
      " 15  ctx-4                       float64\n",
      "dtypes: float64(11), int64(5)\n",
      "memory usage: 362.5 MB\n"
     ]
    }
   ],
   "source": [
    "global_df.info()"
   ]
  },
  {
   "cell_type": "code",
   "execution_count": 16,
   "id": "3970ff14",
   "metadata": {},
   "outputs": [
    {
     "name": "stdout",
     "output_type": "stream",
     "text": [
      "Distancia entre estació bincing lat    41.397978\n",
      "lon     2.180107\n",
      "Name: 0, dtype: float64 i parada transport LATITUD     41.410259\n",
      "LONGITUD     2.189397\n",
      "Name: 0, dtype: object són 1570.10 metres\n"
     ]
    }
   ],
   "source": [
    "coord_estacio = global_df.loc[0,['lat','lon']]\n",
    "coord_transp = df_trans.loc[0,['LATITUD','LONGITUD']]\n",
    "dist = haversine(coord_estacio, coord_transp, unit=Unit.METERS)\n",
    "print(f\"Distancia entre estació bincing {coord_estacio} i parada transport {coord_transp} són {dist:.2f} metres\")"
   ]
  },
  {
   "cell_type": "markdown",
   "id": "ddaa5816",
   "metadata": {},
   "source": [
    "La distància entre aquestes dos coordenades es de ~1.500m. Fem la comprovació a google per veure que ho estem calculant correctament. El traecte amb cotxe són 2,5km i hem de tenir en compte que nosaltres estem calculant la diagonal. Per tant, sembla que el càlcul és correcte.<br>\n",
    "![](clot_aeroport.png)"
   ]
  },
  {
   "cell_type": "markdown",
   "id": "b7aeeca3",
   "metadata": {},
   "source": [
    "Per tenir un ordre de magnitut, el trajecte caminant entre l'estació de bicing i la parada de metro Monumental és de ~400m, i la distància entre les dos coordenades és de ~300m. Per tant, segurament el ratio a fer servir són aprox. 500m\n",
    "<br>\n",
    "![Image Description](monumental.png)"
   ]
  },
  {
   "cell_type": "code",
   "execution_count": 18,
   "id": "3eeb3ddb",
   "metadata": {},
   "outputs": [
    {
     "data": {
      "text/plain": [
       "302.8777316399031"
      ]
     },
     "execution_count": 18,
     "metadata": {},
     "output_type": "execute_result"
    }
   ],
   "source": [
    "# 41.40065935819499, 2.179468819903669\n",
    "haversine(coord_estacio, [41.40065935819499,2.179468819903669], unit=Unit.METERS)"
   ]
  },
  {
   "cell_type": "code",
   "execution_count": 28,
   "id": "e4dff0b1",
   "metadata": {},
   "outputs": [
    {
     "data": {
      "text/plain": [
       "(632, 3)"
      ]
     },
     "execution_count": 28,
     "metadata": {},
     "output_type": "execute_result"
    }
   ],
   "source": [
    "estacions_coords = global_df[['station_id','lat','lon']].drop_duplicates()\n",
    "estacions_coords.shape"
   ]
  },
  {
   "cell_type": "code",
   "execution_count": 29,
   "id": "82d03a64",
   "metadata": {},
   "outputs": [
    {
     "name": "stdout",
     "output_type": "stream",
     "text": [
      "    station_id        lat       lon  n_transp_500m\n",
      "0            1  41.397978  2.180107              3\n",
      "15           2  41.395488  2.177198             11\n",
      "30           3  41.394156  2.181331             13\n",
      "46           4  41.393317  2.181248             10\n",
      "61           5  41.391103  2.180176              9\n"
     ]
    }
   ],
   "source": [
    "\n",
    "def count_trans_within_radius(row, est_bicing, radi):\n",
    "    \"\"\"\n",
    "    Per cada fila del data frame compta el num d'estacions de transports\n",
    "    qui hi ha en el radi definit en metres\n",
    "    \"\"\"\n",
    "    distances = [haversine((row['lat'], row['lon']), (p['LATITUD'], p['LONGITUD']), unit=Unit.METERS)\n",
    "                 for _, p in est_bicing.iterrows()]\n",
    "    return len([d for d in distances if d <= radi])\n",
    "\n",
    "estacions_coords['n_transp_500m'] = estacions_coords.apply(count_trans_within_radius, args=(df_trans, 500), axis=1)\n",
    "\n",
    "print(estacions_coords.head())\n"
   ]
  },
  {
   "cell_type": "code",
   "execution_count": 32,
   "id": "326a89d9",
   "metadata": {},
   "outputs": [
    {
     "data": {
      "text/plain": [
       "count    632.000000\n",
       "mean       7.107595\n",
       "std        5.703265\n",
       "min        0.000000\n",
       "25%        3.750000\n",
       "50%        6.000000\n",
       "75%        9.000000\n",
       "max       36.000000\n",
       "Name: n_transp_500m, dtype: float64"
      ]
     },
     "execution_count": 32,
     "metadata": {},
     "output_type": "execute_result"
    }
   ],
   "source": [
    "estacions_coords['n_transp_500m'].describe()"
   ]
  },
  {
   "cell_type": "markdown",
   "id": "343a9662",
   "metadata": {},
   "source": [
    "L'estació de bicing què té més parades de transport públic en un rati de 500m és a gran via. "
   ]
  },
  {
   "cell_type": "code",
   "execution_count": 37,
   "id": "b6ffd820",
   "metadata": {},
   "outputs": [
    {
     "data": {
      "text/html": [
       "<div>\n",
       "<style scoped>\n",
       "    .dataframe tbody tr th:only-of-type {\n",
       "        vertical-align: middle;\n",
       "    }\n",
       "\n",
       "    .dataframe tbody tr th {\n",
       "        vertical-align: top;\n",
       "    }\n",
       "\n",
       "    .dataframe thead th {\n",
       "        text-align: right;\n",
       "    }\n",
       "</style>\n",
       "<table border=\"1\" class=\"dataframe\">\n",
       "  <thead>\n",
       "    <tr style=\"text-align: right;\">\n",
       "      <th></th>\n",
       "      <th>station_id</th>\n",
       "      <th>lat</th>\n",
       "      <th>lon</th>\n",
       "      <th>n_transp_500m</th>\n",
       "    </tr>\n",
       "  </thead>\n",
       "  <tbody>\n",
       "    <tr>\n",
       "      <th>4034</th>\n",
       "      <td>287</td>\n",
       "      <td>41.389063</td>\n",
       "      <td>2.167931</td>\n",
       "      <td>36</td>\n",
       "    </tr>\n",
       "  </tbody>\n",
       "</table>\n",
       "</div>"
      ],
      "text/plain": [
       "      station_id        lat       lon  n_transp_500m\n",
       "4034         287  41.389063  2.167931             36"
      ]
     },
     "execution_count": 37,
     "metadata": {},
     "output_type": "execute_result"
    }
   ],
   "source": [
    "estacions_coords[estacions_coords['n_transp_500m'] == 36]"
   ]
  },
  {
   "cell_type": "code",
   "execution_count": 43,
   "id": "a593c19c",
   "metadata": {},
   "outputs": [],
   "source": [
    "estacions_coords.to_csv('./Data/bicing_transports.csv')"
   ]
  },
  {
   "cell_type": "markdown",
   "id": "5a43c52f",
   "metadata": {},
   "source": [
    "![](gran_via.png)"
   ]
  },
  {
   "cell_type": "code",
   "execution_count": 39,
   "id": "5a104d3b",
   "metadata": {},
   "outputs": [],
   "source": [
    "global_df_merged = global_df.merge(estacions_coords, on=['station_id','lat','lon'], how='left')"
   ]
  },
  {
   "cell_type": "code",
   "execution_count": 42,
   "id": "26d9f180",
   "metadata": {},
   "outputs": [
    {
     "data": {
      "text/plain": [
       "count    2.969792e+06\n",
       "mean     7.167215e+00\n",
       "std      5.905094e+00\n",
       "min      0.000000e+00\n",
       "25%      3.000000e+00\n",
       "50%      6.000000e+00\n",
       "75%      9.000000e+00\n",
       "max      3.600000e+01\n",
       "Name: n_transp_500m, dtype: float64"
      ]
     },
     "execution_count": 42,
     "metadata": {},
     "output_type": "execute_result"
    }
   ],
   "source": [
    "global_df_merged['n_transp_500m'].describe()"
   ]
  },
  {
   "cell_type": "code",
   "execution_count": null,
   "id": "27dc5a5d",
   "metadata": {},
   "outputs": [],
   "source": []
  }
 ],
 "metadata": {
  "kernelspec": {
   "display_name": "Python 3 (ipykernel)",
   "language": "python",
   "name": "python3"
  },
  "language_info": {
   "codemirror_mode": {
    "name": "ipython",
    "version": 3
   },
   "file_extension": ".py",
   "mimetype": "text/x-python",
   "name": "python",
   "nbconvert_exporter": "python",
   "pygments_lexer": "ipython3",
   "version": "3.9.12"
  }
 },
 "nbformat": 4,
 "nbformat_minor": 5
}
